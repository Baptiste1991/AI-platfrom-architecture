{
 "cells": [
  {
   "cell_type": "code",
   "execution_count": null,
   "metadata": {},
   "outputs": [],
   "source": [
    "#Data integration\n",
    "\n",
    "#Step 1: Create SQLite Database\n",
    "\n",
    "import sqlite3\n",
    "\n",
    "# Connect to SQLite database (or create it if it doesn't exist)\n",
    "conn = sqlite3.connect('ncif.db')\n",
    "cursor = conn.cursor()\n",
    "\n",
    "# Create tables\n",
    "cursor.execute(\"\"\"\n",
    "CREATE TABLE epa_data (\n",
    "    census_tract TEXT PRIMARY KEY,\n",
    "    pm25 REAL\n",
    "    -- Add other relevant fields\n",
    ")\n",
    "\"\"\")\n",
    "\n",
    "cursor.execute(\"\"\"\n",
    "CREATE TABLE sod_data (\n",
    "    cert INTEGER,\n",
    "    census_tract TEXT,\n",
    "    branch_count INTEGER\n",
    "    -- Add other relevant fields\n",
    ")\n",
    "\"\"\")\n",
    "\n",
    "cursor.execute(\"\"\"\n",
    "CREATE TABLE ncua_data (\n",
    "    cert INTEGER,\n",
    "    census_tract TEXT,\n",
    "    branch_count INTEGER\n",
    "    -- Add other relevant fields\n",
    ")\n",
    "\"\"\")\n",
    "\n",
    "conn.commit()\n",
    "conn.close()"
   ]
  },
  {
   "cell_type": "code",
   "execution_count": null,
   "metadata": {},
   "outputs": [],
   "source": [
    "#Step2: Populate Tables\n",
    "\n",
    "import pandas as pd\n",
    "\n",
    "# Load datasets into pandas DataFrames\n",
    "epa_data = pd.read_csv('epa_data.csv')\n",
    "sod_data = pd.read_csv('sod_data.csv')\n",
    "ncua_data = pd.read_csv('ncua_data.csv')\n",
    "\n",
    "# Insert data into SQLite\n",
    "with sqlite3.connect('ncif.db') as conn:\n",
    "    epa_data.to_sql('epa_data', conn, if_exists='append', index=False)\n",
    "    sod_data.to_sql('sod_data', conn, if_exists='append', index=False)\n",
    "    ncua_data.to_sql('ncua_data', conn, if_exists='append', index=False)\n"
   ]
  },
  {
   "cell_type": "code",
   "execution_count": null,
   "metadata": {},
   "outputs": [],
   "source": []
  }
 ],
 "metadata": {
  "kernelspec": {
   "display_name": "base",
   "language": "python",
   "name": "python3"
  },
  "language_info": {
   "name": "python",
   "version": "3.12.4"
  }
 },
 "nbformat": 4,
 "nbformat_minor": 2
}
